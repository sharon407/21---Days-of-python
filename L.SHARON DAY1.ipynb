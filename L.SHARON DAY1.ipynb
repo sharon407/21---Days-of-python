{
  "nbformat": 4,
  "nbformat_minor": 0,
  "metadata": {
    "colab": {
      "name": "Untitled1.ipynb",
      "provenance": []
    },
    "kernelspec": {
      "name": "python3",
      "display_name": "Python 3"
    },
    "language_info": {
      "name": "python"
    }
  },
  "cells": [
    {
      "cell_type": "markdown",
      "metadata": {
        "id": "Ig_cY8aGu0Gb"
      },
      "source": [
        "##### L.SHARON\n",
        "##### DAY 1 TASK\n"
      ]
    },
    {
      "cell_type": "code",
      "metadata": {
        "colab": {
          "base_uri": "https://localhost:8080/"
        },
        "id": "fzRnASFmqu6J",
        "outputId": "429ebe77-7268-43ff-a36b-4bb4eaf2c01e"
      },
      "source": [
        "a=int(input('enter the number of black coins:'))\n",
        "b=int(input('enter the number of white coins:'))\n",
        "c=int(input('enter the number of green coins:'))\n",
        "d=int(input('enter the number of yellow coins:'))\n",
        "e=int(input('enter the number of blue coins:'))\n",
        "sum=a+b+c+d+e\n",
        "sum\n",
        "if sum%11==0:\n",
        "  print(\"True\")\n",
        "else:\n",
        "  print(\"False\")"
      ],
      "execution_count": 12,
      "outputs": [
        {
          "output_type": "stream",
          "text": [
            "enter the number of black coins:87\n",
            "enter the number of white coins:49\n",
            "enter the number of green coins:79\n",
            "enter the number of yellow coins:55\n",
            "enter the number of blue coins:16\n",
            "True\n"
          ],
          "name": "stdout"
        }
      ]
    }
  ]
}